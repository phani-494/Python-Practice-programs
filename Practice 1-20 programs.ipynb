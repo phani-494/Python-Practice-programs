{
 "cells": [
  {
   "cell_type": "markdown",
   "id": "acb3c41c",
   "metadata": {},
   "source": [
    "### 1\n",
    "##### write a program to print given number of * s in  a row"
   ]
  },
  {
   "cell_type": "code",
   "execution_count": 2,
   "id": "dfe9b8b8",
   "metadata": {},
   "outputs": [
    {
     "name": "stdout",
     "output_type": "stream",
     "text": [
      "Enter the number of rows:8\n",
      "********"
     ]
    }
   ],
   "source": [
    "n=int(input(\"Enter the number of rows:\"))\n",
    "for i in range(n):\n",
    "    print(\"*\",end=\"\")"
   ]
  },
  {
   "cell_type": "code",
   "execution_count": 4,
   "id": "c89836bb",
   "metadata": {},
   "outputs": [
    {
     "name": "stdout",
     "output_type": "stream",
     "text": [
      "********"
     ]
    }
   ],
   "source": [
    "# we can simply like this in one single line.\n",
    "print(\"*\"*n,end=\"\")"
   ]
  },
  {
   "cell_type": "code",
   "execution_count": 5,
   "id": "25876ffa",
   "metadata": {},
   "outputs": [
    {
     "name": "stdout",
     "output_type": "stream",
     "text": [
      "Enter the number of rows:10\n",
      "* * * * * * * * * * "
     ]
    }
   ],
   "source": [
    "# if we want spaces between the stars, then we can give end=\" \"\n",
    "n=int(input(\"Enter the number of rows:\"))\n",
    "for i in range(n):\n",
    "    print(\"*\",end=\" \")"
   ]
  },
  {
   "cell_type": "markdown",
   "id": "2b45f247",
   "metadata": {},
   "source": [
    "## 2\n",
    "### Print square pattern with * symbol"
   ]
  },
  {
   "cell_type": "code",
   "execution_count": 7,
   "id": "52f1c0c3",
   "metadata": {},
   "outputs": [
    {
     "name": "stdout",
     "output_type": "stream",
     "text": [
      "Enter the number of rows:7\n",
      "* * * * * * * \n",
      "* * * * * * * \n",
      "* * * * * * * \n",
      "* * * * * * * \n",
      "* * * * * * * \n",
      "* * * * * * * \n",
      "* * * * * * * \n"
     ]
    }
   ],
   "source": [
    "n=int(input(\"Enter the number of rows:\"))\n",
    "for i in range(n):\n",
    "    print(\"* \"*n)"
   ]
  },
  {
   "cell_type": "markdown",
   "id": "0efaad21",
   "metadata": {},
   "source": [
    "## 3\n",
    "###  square Pattern  with provided fixed digit\n"
   ]
  },
  {
   "cell_type": "code",
   "execution_count": 11,
   "id": "d513ce54",
   "metadata": {},
   "outputs": [
    {
     "name": "stdout",
     "output_type": "stream",
     "text": [
      "Enter the number of rows:7\n",
      "7 7 7 7 7 7 7 \n",
      "7 7 7 7 7 7 7 \n",
      "7 7 7 7 7 7 7 \n",
      "7 7 7 7 7 7 7 \n",
      "7 7 7 7 7 7 7 \n",
      "7 7 7 7 7 7 7 \n",
      "7 7 7 7 7 7 7 \n"
     ]
    }
   ],
   "source": [
    "n=int(input(\"Enter the number of rows:\"))\n",
    "for i in range(n):\n",
    "    print(f\"{n} \"*n)"
   ]
  },
  {
   "cell_type": "code",
   "execution_count": 14,
   "id": "cc79a0f5",
   "metadata": {},
   "outputs": [
    {
     "name": "stdout",
     "output_type": "stream",
     "text": [
      "Enter the number of rows:7\n",
      "7 7 7 7 7 7 7 \n",
      "7 7 7 7 7 7 7 \n",
      "7 7 7 7 7 7 7 \n",
      "7 7 7 7 7 7 7 \n",
      "7 7 7 7 7 7 7 \n",
      "7 7 7 7 7 7 7 \n",
      "7 7 7 7 7 7 7 \n"
     ]
    }
   ],
   "source": [
    "n=int(input(\"Enter the number of rows:\"))\n",
    "for i in range(n):\n",
    "    print((str(n)+\" \") *n) # convert n to string datatype."
   ]
  },
  {
   "cell_type": "code",
   "execution_count": 16,
   "id": "65714eda",
   "metadata": {},
   "outputs": [
    {
     "name": "stdout",
     "output_type": "stream",
     "text": [
      "Enter the number of rows:6\n",
      "666666\n",
      "666666\n",
      "666666\n",
      "666666\n",
      "666666\n",
      "666666\n"
     ]
    }
   ],
   "source": [
    "# without spaces \n",
    "n=int(input(\"Enter the number of rows:\"))\n",
    "for i in range(n):\n",
    "    print(str(n) *n)"
   ]
  },
  {
   "cell_type": "markdown",
   "id": "0d83803f",
   "metadata": {},
   "source": [
    "## 4\n",
    "# Square pattern with provided fixed digit in every row in increasing manner"
   ]
  },
  {
   "cell_type": "raw",
   "id": "f2d3f595",
   "metadata": {},
   "source": [
    "n=5\n",
    "1 1 1 1 1\n",
    "2 2 2 2 2 \n",
    "3 3 3 3 3\n",
    "4 4 4 4 4\n",
    "5 5 5 5 5"
   ]
  },
  {
   "cell_type": "code",
   "execution_count": 2,
   "id": "bac06e7e",
   "metadata": {},
   "outputs": [
    {
     "name": "stdout",
     "output_type": "stream",
     "text": [
      "enter the no of rows: 7\n",
      "1 1 1 1 1 1 1 \n",
      "2 2 2 2 2 2 2 \n",
      "3 3 3 3 3 3 3 \n",
      "4 4 4 4 4 4 4 \n",
      "5 5 5 5 5 5 5 \n",
      "6 6 6 6 6 6 6 \n",
      "7 7 7 7 7 7 7 \n"
     ]
    }
   ],
   "source": [
    "n=int(input(\"enter the no of rows: \"))\n",
    "for i in range(1,n+1):\n",
    "    print(f\"{i} \" *n)  "
   ]
  },
  {
   "cell_type": "code",
   "execution_count": 3,
   "id": "d83fab8e",
   "metadata": {},
   "outputs": [
    {
     "name": "stdout",
     "output_type": "stream",
     "text": [
      "Enter the number of rows:7\n",
      "1 1 1 1 1 1 1 \n",
      "2 2 2 2 2 2 2 \n",
      "3 3 3 3 3 3 3 \n",
      "4 4 4 4 4 4 4 \n",
      "5 5 5 5 5 5 5 \n",
      "6 6 6 6 6 6 6 \n",
      "7 7 7 7 7 7 7 \n"
     ]
    }
   ],
   "source": [
    "n=int(input(\"Enter the number of rows:\"))\n",
    "for i in range(n):\n",
    "    print((str(i+1)+\" \") *n)"
   ]
  },
  {
   "cell_type": "markdown",
   "id": "d5afdc70",
   "metadata": {},
   "source": [
    "# 5\n",
    "##  Print a square pattern with fixed alphabet symbol"
   ]
  },
  {
   "cell_type": "raw",
   "id": "918c40f7",
   "metadata": {},
   "source": [
    "A A A A A \n",
    "A A A A A \n",
    "A A A A A \n",
    "A A A A A \n",
    "A A A A A "
   ]
  },
  {
   "cell_type": "code",
   "execution_count": 4,
   "id": "fc876e35",
   "metadata": {},
   "outputs": [
    {
     "data": {
      "text/plain": [
       "'V'"
      ]
     },
     "execution_count": 4,
     "metadata": {},
     "output_type": "execute_result"
    }
   ],
   "source": [
    "chr(86)"
   ]
  },
  {
   "cell_type": "code",
   "execution_count": 6,
   "id": "89897772",
   "metadata": {},
   "outputs": [
    {
     "name": "stdout",
     "output_type": "stream",
     "text": [
      " enter the no of rows: 5\n",
      "A A A A A \n",
      "A A A A A \n",
      "A A A A A \n",
      "A A A A A \n",
      "A A A A A \n"
     ]
    }
   ],
   "source": [
    "n=int(input(\" enter the no of rows: \"))\n",
    "for i in range(n):\n",
    "    print((chr(65)+\" \")*n)"
   ]
  },
  {
   "cell_type": "code",
   "execution_count": 7,
   "id": "d4476a35",
   "metadata": {},
   "outputs": [
    {
     "name": "stdout",
     "output_type": "stream",
     "text": [
      " enter the no of rows: 6\n",
      "A A A A A A \n",
      "A A A A A A \n",
      "A A A A A A \n",
      "A A A A A A \n",
      "A A A A A A \n",
      "A A A A A A \n"
     ]
    }
   ],
   "source": [
    "n=int(input(\" enter the no of rows: \"))\n",
    "for i in range(n):\n",
    "    print((\"A \")*n)"
   ]
  },
  {
   "cell_type": "markdown",
   "id": "ec13e91d",
   "metadata": {},
   "source": [
    "# 6\n",
    "## to print the square pattern with alphabet symbol"
   ]
  },
  {
   "cell_type": "raw",
   "id": "0872259d",
   "metadata": {},
   "source": [
    "Pattern\n",
    "A A A A A\n",
    "B B B B B\n",
    "C C C C C\n",
    "..........\n",
    ".........."
   ]
  },
  {
   "cell_type": "code",
   "execution_count": 1,
   "id": "f466d554",
   "metadata": {},
   "outputs": [
    {
     "name": "stdout",
     "output_type": "stream",
     "text": [
      "enter the number of rows: 7\n",
      "A A A A A A A \n",
      "B B B B B B B \n",
      "C C C C C C C \n",
      "D D D D D D D \n",
      "E E E E E E E \n",
      "F F F F F F F \n",
      "G G G G G G G \n"
     ]
    }
   ],
   "source": [
    "n=int(input(\"enter the number of rows: \"))\n",
    "for i in range(0,n):\n",
    "    print((chr(65+i)+\" \")*n)\n"
   ]
  },
  {
   "cell_type": "markdown",
   "id": "0492b0b6",
   "metadata": {},
   "source": [
    "# 7\n",
    "##  to print the sqaure pattern with digits"
   ]
  },
  {
   "cell_type": "raw",
   "id": "fdef148f",
   "metadata": {},
   "source": [
    "1 2 3 4 5\n",
    "1 2 3 4 5\n",
    "1 2 3 4 5\n",
    "1 2 3 4 5\n",
    "1 2 3 4 5"
   ]
  },
  {
   "cell_type": "code",
   "execution_count": 4,
   "id": "a9f28e22",
   "metadata": {},
   "outputs": [
    {
     "name": "stdout",
     "output_type": "stream",
     "text": [
      "enter the range: 6\n",
      "1 2 3 4 5 6 \n",
      "1 2 3 4 5 6 \n",
      "1 2 3 4 5 6 \n",
      "1 2 3 4 5 6 \n",
      "1 2 3 4 5 6 \n",
      "1 2 3 4 5 6 \n"
     ]
    }
   ],
   "source": [
    "n=int(input(\"enter the range: \"))\n",
    "for i in range(1,n+1):\n",
    "    for j in range(1,n+1):\n",
    "        print(j,end=\" \")\n",
    "    print()\n",
    "        "
   ]
  },
  {
   "cell_type": "markdown",
   "id": "42426ae0",
   "metadata": {},
   "source": [
    "# 8\n",
    "## To print the square pattern with alphabet symbols in the dictionary order"
   ]
  },
  {
   "cell_type": "raw",
   "id": "1bbde962",
   "metadata": {},
   "source": [
    "A B C D E\n",
    "A B C D E\n",
    "A B C D E\n",
    "A B C D E\n",
    "A B C D E\n",
    "A B C D E"
   ]
  },
  {
   "cell_type": "code",
   "execution_count": 5,
   "id": "5110914b",
   "metadata": {},
   "outputs": [
    {
     "name": "stdout",
     "output_type": "stream",
     "text": [
      "enter the range: 7\n",
      "A B C D E F G \n",
      "A B C D E F G \n",
      "A B C D E F G \n",
      "A B C D E F G \n",
      "A B C D E F G \n",
      "A B C D E F G \n",
      "A B C D E F G \n"
     ]
    }
   ],
   "source": [
    "n=int(input(\"enter the range: \"))\n",
    "for i in range(1,n+1):\n",
    "    for j in range(n):\n",
    "        print(chr(65+j),end=\" \")\n",
    "    print()\n",
    "        "
   ]
  },
  {
   "cell_type": "markdown",
   "id": "a4c2863e",
   "metadata": {},
   "source": [
    "# 9\n",
    "## To print square pattern with digits in descending order "
   ]
  },
  {
   "cell_type": "raw",
   "id": "a4d2ae62",
   "metadata": {},
   "source": [
    "5 5 5 5 5\n",
    "4 4 4 4 4\n",
    "3 3 3 3 3\n",
    "2 2 2 2 2\n",
    "1 1 1 1 1"
   ]
  },
  {
   "cell_type": "code",
   "execution_count": 7,
   "id": "e2b9d50e",
   "metadata": {},
   "outputs": [
    {
     "name": "stdout",
     "output_type": "stream",
     "text": [
      "enter the no of rows: 7\n",
      "7 7 7 7 7 7 7 \n",
      "6 6 6 6 6 6 6 \n",
      "5 5 5 5 5 5 5 \n",
      "4 4 4 4 4 4 4 \n",
      "3 3 3 3 3 3 3 \n",
      "2 2 2 2 2 2 2 \n",
      "1 1 1 1 1 1 1 \n"
     ]
    }
   ],
   "source": [
    "n=int(input(\"enter the no of rows: \"))\n",
    "for i in range(n):\n",
    "    print(f\"{n-i} \" *n)  "
   ]
  },
  {
   "cell_type": "markdown",
   "id": "67879257",
   "metadata": {},
   "source": [
    "# 10\n",
    "## To print square pattern with alphabets in reverse of dictionary order."
   ]
  },
  {
   "cell_type": "code",
   "execution_count": 9,
   "id": "e43672a2",
   "metadata": {},
   "outputs": [
    {
     "name": "stdout",
     "output_type": "stream",
     "text": [
      "enter the number of rows: 6\n",
      "F F F F F F \n",
      "E E E E E E \n",
      "D D D D D D \n",
      "C C C C C C \n",
      "B B B B B B \n",
      "A A A A A A \n"
     ]
    }
   ],
   "source": [
    "n=int(input(\"enter the number of rows: \"))\n",
    "for i in range(1,n+1):\n",
    "    print((chr(65+n-i)+\" \")*n)"
   ]
  },
  {
   "cell_type": "markdown",
   "id": "b8db88ac",
   "metadata": {},
   "source": [
    "# 11\n",
    "## To print the sqaure pattern with digits in descending order"
   ]
  },
  {
   "cell_type": "code",
   "execution_count": 11,
   "id": "f514cf8b",
   "metadata": {},
   "outputs": [
    {
     "name": "stdout",
     "output_type": "stream",
     "text": [
      "enter the range: 6\n",
      "6 5 4 3 2 1 \n",
      "6 5 4 3 2 1 \n",
      "6 5 4 3 2 1 \n",
      "6 5 4 3 2 1 \n",
      "6 5 4 3 2 1 \n",
      "6 5 4 3 2 1 \n"
     ]
    }
   ],
   "source": [
    "n=int(input(\"enter the range: \"))\n",
    "for i in range(1,n+1):\n",
    "    for j in range(n):\n",
    "        print(n-j,end=\" \")\n",
    "    print()"
   ]
  },
  {
   "cell_type": "markdown",
   "id": "19e4280c",
   "metadata": {},
   "source": [
    "# 12\n",
    "## To print a square pattern with alphabets in reverse of dictionary order"
   ]
  },
  {
   "cell_type": "code",
   "execution_count": 3,
   "id": "ca8cc604",
   "metadata": {},
   "outputs": [
    {
     "name": "stdout",
     "output_type": "stream",
     "text": [
      "enter the range: 5\n",
      "E D C B A \n",
      "E D C B A \n",
      "E D C B A \n",
      "E D C B A \n",
      "E D C B A \n"
     ]
    }
   ],
   "source": [
    "n=int(input(\"enter the range: \"))\n",
    "for i in range(1,n+1):\n",
    "    for j in range(n):\n",
    "        print(chr(64+n-j),end=\" \")\n",
    "    print()"
   ]
  },
  {
   "cell_type": "markdown",
   "id": "2ceb0c10",
   "metadata": {},
   "source": [
    "# 13\n",
    "## To print the right angle triangle pattern with symbol\n"
   ]
  },
  {
   "cell_type": "code",
   "execution_count": 4,
   "id": "6525c189",
   "metadata": {},
   "outputs": [
    {
     "name": "stdout",
     "output_type": "stream",
     "text": [
      "enter the no of rows: 5\n",
      "*\n",
      "**\n",
      "***\n",
      "****\n",
      "*****\n"
     ]
    }
   ],
   "source": [
    "n=int(input(\"enter the no of rows: \"))\n",
    "for i in range(1,n+1):\n",
    "    print(f\"*\" *i) "
   ]
  },
  {
   "cell_type": "code",
   "execution_count": 6,
   "id": "77c7bada",
   "metadata": {},
   "outputs": [
    {
     "name": "stdout",
     "output_type": "stream",
     "text": [
      "enter the no of rows: 5\n",
      "* \n",
      "* * \n",
      "* * * \n",
      "* * * * \n",
      "* * * * * \n"
     ]
    }
   ],
   "source": [
    "# in every row we need to take i+1 columns.\n",
    "n=int(input(\"enter the no of rows: \"))\n",
    "for i in range(n):\n",
    "    for j in range(i+1):\n",
    "        print(\"*\",end=\" \") \n",
    "    print()"
   ]
  },
  {
   "cell_type": "code",
   "execution_count": 7,
   "id": "70b91b4a",
   "metadata": {},
   "outputs": [
    {
     "name": "stdout",
     "output_type": "stream",
     "text": [
      "range(0, 10)\n"
     ]
    }
   ],
   "source": [
    "print(range(0,10))"
   ]
  },
  {
   "cell_type": "code",
   "execution_count": 10,
   "id": "5595b587",
   "metadata": {},
   "outputs": [
    {
     "name": "stdout",
     "output_type": "stream",
     "text": [
      "0\n"
     ]
    }
   ],
   "source": [
    "for i in range(1):\n",
    "    print(i)"
   ]
  },
  {
   "cell_type": "markdown",
   "id": "feb6b43a",
   "metadata": {},
   "source": [
    "# 14\n",
    "## To print Right Angled triangle pattern with fixed digit in every row."
   ]
  },
  {
   "cell_type": "code",
   "execution_count": null,
   "id": "42f817d8",
   "metadata": {},
   "outputs": [],
   "source": [
    "1\n",
    "2 2\n",
    "3 3 3\n",
    "4 4 4 4\n",
    "5 5 5 5 5"
   ]
  },
  {
   "cell_type": "code",
   "execution_count": 12,
   "id": "3ef3e8f5",
   "metadata": {},
   "outputs": [
    {
     "name": "stdout",
     "output_type": "stream",
     "text": [
      "enter the no of rows: 5\n",
      "1 \n",
      "2 2 \n",
      "3 3 3 \n",
      "4 4 4 4 \n",
      "5 5 5 5 5 \n"
     ]
    }
   ],
   "source": [
    "n=int(input(\"enter the no of rows: \"))\n",
    "for i in range(1,n+1):\n",
    "    print(f\"{i} \" *i) "
   ]
  },
  {
   "cell_type": "code",
   "execution_count": 13,
   "id": "714da3b8",
   "metadata": {},
   "outputs": [
    {
     "name": "stdout",
     "output_type": "stream",
     "text": [
      "enter the no of rows: 5\n",
      "1 \n",
      "2 2 \n",
      "3 3 3 \n",
      "4 4 4 4 \n",
      "5 5 5 5 5 \n"
     ]
    }
   ],
   "source": [
    "n=int(input(\"enter the no of rows: \"))\n",
    "for i in range(n):\n",
    "    for j in range(i+1):\n",
    "        print(i+1,end=\" \") \n",
    "    print()"
   ]
  },
  {
   "cell_type": "markdown",
   "id": "4b4e697b",
   "metadata": {},
   "source": [
    "# 15\n",
    "## Print RAT pattern with fixed alphabet symbol"
   ]
  },
  {
   "cell_type": "code",
   "execution_count": 17,
   "id": "5ddeef49",
   "metadata": {},
   "outputs": [
    {
     "name": "stdout",
     "output_type": "stream",
     "text": [
      "enter the no of rows: 5\n",
      "A \n",
      "B B \n",
      "C C C \n",
      "D D D D \n",
      "E E E E E \n"
     ]
    }
   ],
   "source": [
    "n=int(input(\"enter the no of rows: \"))\n",
    "for i in range(n):\n",
    "    print(f\"{chr(65+i)} \" *(i+1)) "
   ]
  },
  {
   "cell_type": "markdown",
   "id": "ad9e9ee9",
   "metadata": {},
   "source": [
    "# 16\n",
    "## To prin the RAT pattern with digits in ascending order in every row"
   ]
  },
  {
   "cell_type": "code",
   "execution_count": 18,
   "id": "af4a7501",
   "metadata": {},
   "outputs": [
    {
     "name": "stdout",
     "output_type": "stream",
     "text": [
      "enter the no of rows: 5\n",
      "1 \n",
      "1 2 \n",
      "1 2 3 \n",
      "1 2 3 4 \n",
      "1 2 3 4 5 \n"
     ]
    }
   ],
   "source": [
    "n=int(input(\"enter the no of rows: \"))\n",
    "for i in range(n):\n",
    "    for j in range(i+1):\n",
    "        print(j+1,end=\" \") \n",
    "    print()"
   ]
  },
  {
   "cell_type": "markdown",
   "id": "580ce98f",
   "metadata": {},
   "source": [
    "# 17\n",
    "## To print RAT patter with alphabet symbols in  ascending dictionary order"
   ]
  },
  {
   "cell_type": "code",
   "execution_count": 31,
   "id": "bd68b662",
   "metadata": {},
   "outputs": [
    {
     "name": "stdout",
     "output_type": "stream",
     "text": [
      "enter the no of rows: 5\n",
      "A \n",
      "A B \n",
      "A B C \n",
      "A B C D \n",
      "A B C D E \n"
     ]
    }
   ],
   "source": [
    "n=int(input(\"enter the no of rows: \"))\n",
    "for i in range(n):\n",
    "    for j in range(i+1):\n",
    "        print(f\"{chr(65+j)} \",end=\"\") \n",
    "    print()"
   ]
  },
  {
   "cell_type": "code",
   "execution_count": 28,
   "id": "aa6790f3",
   "metadata": {},
   "outputs": [
    {
     "name": "stdout",
     "output_type": "stream",
     "text": [
      "enter the no of rows: 5\n",
      "A \n",
      "A B \n",
      "A B C \n",
      "A B C D \n",
      "A B C D E \n"
     ]
    }
   ],
   "source": [
    "n=int(input(\"enter the no of rows: \"))\n",
    "for i in range(n):\n",
    "    for j in range(i+1):\n",
    "        print(chr(64+j+1),end=\" \") \n",
    "    print()"
   ]
  },
  {
   "cell_type": "markdown",
   "id": "70990931",
   "metadata": {},
   "source": [
    "# 18\n",
    "## RAT pattern with digits in descending order in every row"
   ]
  },
  {
   "cell_type": "code",
   "execution_count": 32,
   "id": "00816576",
   "metadata": {},
   "outputs": [
    {
     "name": "stdout",
     "output_type": "stream",
     "text": [
      "enter the no of rows: 5\n",
      "5 \n",
      "5 4 \n",
      "5 4 3 \n",
      "5 4 3 2 \n",
      "5 4 3 2 1 \n"
     ]
    }
   ],
   "source": [
    "n=int(input(\"enter the no of rows: \"))\n",
    "for i in range(n):\n",
    "    for j in range(i+1):\n",
    "        print(n-j,end=\" \") \n",
    "    print()"
   ]
  },
  {
   "cell_type": "markdown",
   "id": "8d4024e5",
   "metadata": {},
   "source": [
    "# 19\n",
    "## To print RAT patter with alphabet symbols in reverse order  dictionary order"
   ]
  },
  {
   "cell_type": "code",
   "execution_count": 35,
   "id": "f49c672b",
   "metadata": {},
   "outputs": [
    {
     "name": "stdout",
     "output_type": "stream",
     "text": [
      "enter the no of rows: 5\n",
      "E \n",
      "E D \n",
      "E D C \n",
      "E D C B \n",
      "E D C B A \n"
     ]
    }
   ],
   "source": [
    "n=int(input(\"enter the no of rows: \"))\n",
    "for i in range(n):\n",
    "    for j in range(i+1):\n",
    "        print(chr(64+n-j),end=\" \") \n",
    "    print()"
   ]
  },
  {
   "cell_type": "markdown",
   "id": "0cedcd35",
   "metadata": {},
   "source": [
    "# 20\n",
    "## Print  inverted RAT pattern with symbols"
   ]
  },
  {
   "cell_type": "code",
   "execution_count": 40,
   "id": "ed18a36f",
   "metadata": {},
   "outputs": [
    {
     "name": "stdout",
     "output_type": "stream",
     "text": [
      "enter the no of rows: 6\n",
      "******\n",
      "*****\n",
      "****\n",
      "***\n",
      "**\n",
      "*\n"
     ]
    }
   ],
   "source": [
    "n=int(input(\"enter the no of rows: \"))\n",
    "for i in range(1,n+1):\n",
    "    print(\"*\"*(n-i+1) ) "
   ]
  },
  {
   "cell_type": "code",
   "execution_count": 39,
   "id": "44a0ee53",
   "metadata": {},
   "outputs": [
    {
     "name": "stdout",
     "output_type": "stream",
     "text": [
      "enter the no of rows: 7\n",
      "*******\n",
      "******\n",
      "*****\n",
      "****\n",
      "***\n",
      "**\n",
      "*\n"
     ]
    }
   ],
   "source": [
    "n=int(input(\"enter the no of rows: \"))\n",
    "for i in range(n):\n",
    "    print(\"*\"*(n-i) ) "
   ]
  },
  {
   "cell_type": "code",
   "execution_count": null,
   "id": "35730dc4",
   "metadata": {},
   "outputs": [],
   "source": []
  }
 ],
 "metadata": {
  "kernelspec": {
   "display_name": "Python 3 (ipykernel)",
   "language": "python",
   "name": "python3"
  },
  "language_info": {
   "codemirror_mode": {
    "name": "ipython",
    "version": 3
   },
   "file_extension": ".py",
   "mimetype": "text/x-python",
   "name": "python",
   "nbconvert_exporter": "python",
   "pygments_lexer": "ipython3",
   "version": "3.9.13"
  }
 },
 "nbformat": 4,
 "nbformat_minor": 5
}
