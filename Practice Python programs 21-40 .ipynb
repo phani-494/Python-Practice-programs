{
 "cells": [
  {
   "cell_type": "raw",
   "id": "1ec3d81f",
   "metadata": {},
   "source": [
    "1\n",
    "# Python strings Counting number of the characters\n",
    "str1=input(\"enter the string:\")\n",
    "print(len(str1))\n",
    "\n",
    "\n",
    "enter the string:indrasena is verey level\n",
    "24\n",
    "\n",
    "\n",
    "# Python strings Counting number of the characters without using len()\n",
    "str1=input(\"enter the string:\")\n",
    "length=0\n",
    "for i in str1: # for every character in the string \n",
    "    length=length+1\n",
    "print(length)\n",
    "\n",
    "# we don't want to include the spaces in the length of the string.\n",
    "str1=input(\"enter the string:\")\n",
    "length=0\n",
    "for i in str1:\n",
    "    if i==\" \":\n",
    "        pass # we can give here continue or the pass here. both gives same result only.\n",
    "    else:\n",
    "        length=length+1\n",
    "print(length)\n",
    "\n",
    "# simply we can also give like this using not equal to.\n",
    "str1=input(\"enter the string:\")\n",
    "length=0\n",
    "for i in str1:\n",
    "    if i!=\" \":\n",
    "        length=length+1\n",
    "print(length)\n",
    "\n",
    "\n",
    "\n",
    "\n",
    "str1=input(\"enter the string:\")\n",
    "length=0\n",
    "for i in str1:\n",
    "    if i==\" \":\n",
    "        continue # we can give here continue or the pass here. both gives same result only.\n",
    "    length=length+1\n",
    "print(length)\n",
    "\n",
    "\n",
    "\n",
    "2\n",
    "# Counting the number of words \n",
    "\n",
    "str1=input(\"enter the string:\")\n",
    "list1=str1.split(\" \")\n",
    "print(len(list1))\n",
    "\n",
    "enter the string:Phanindra is the greatest data scientist\n",
    "6\n",
    "\n",
    "# the above still needs to be modified if there are more spaces present in the string\n",
    "# observe the below program very carefully:\n",
    "\n",
    "\n",
    "\n",
    "\n",
    "\n",
    "str1=input(\"enter the string:\")\n",
    "list1=str1.split(\" \")\n",
    "print(list1)\n",
    "print(len(list1))\n",
    "\n",
    "# see here we got the real if more spaces are used here. so we need to modify the program here.\n",
    "\n",
    "enter the string:  hereis    the    real massive hero of    india\n",
    "['', '', 'hereis', '', '', '', 'the', '', '', '', 'real', 'massive', 'hero', 'of', '', '', '', 'india']\n",
    "18\n",
    "\n",
    "\n",
    " # the correct program is here.\n",
    " \n",
    " \n",
    "str1=input(\"enter the string:\")\n",
    "list1=str1.split(\" \")\n",
    "print(list1)\n",
    "count=0\n",
    "for i in list1:\n",
    "    if i!=\"\":\n",
    "        count=count+1\n",
    "print(count)\n",
    "\n",
    "enter the string:  here us the map of   india\n",
    "['', '', 'here', 'us', 'the', 'map', 'of', '', '', 'india']\n",
    "6\n",
    "\n",
    "# at here spaces are given and after of there are multiple spaces.\n",
    "# this works fine as empty strings are not added here.\n",
    "\n",
    "\n",
    "\n",
    "3\n",
    "\n",
    "# Counting No of upper case characters in the string\n",
    "\n",
    "str1=input(\"enter the string:\")\n",
    "count=0\n",
    "for i in str1:\n",
    "    if i.isupper()==True:\n",
    "        count=count+1\n",
    "print(count)\n",
    "\n",
    "\n",
    "enter the string:Atomic Habits James Clear\n",
    "4\n",
    "\n",
    "# by using the regular expressions also, we can find the upper case characters \n",
    "\n",
    "import re\n",
    "str1=input(\"enter the string:\")\n",
    "p1=re.compile(r'[A-Z]')\n",
    "p2=re.findall(p1,str1)\n",
    "print(len(p2))\n",
    "\n",
    "\n",
    "\n",
    "import re\n",
    "string = 'NTR is A mass Hero'\n",
    "res = re.findall(r'[A-Z]', string)\n",
    "print (len(res))\n",
    "\n",
    "\n",
    "#4\n",
    "## Counting the number of vowels;\n",
    "\n",
    "\n",
    "import re\n",
    "string = 'NTR is A mass HerO Always'\n",
    "res = re.findall(r'[A|E|I|O|U]', string) # here we counted the only upper case vowels only.\n",
    "print(res)\n",
    "print (len(res))\n",
    "\n",
    "\n",
    "['A', 'O', 'A']\n",
    "3\n",
    "\n",
    "\n",
    "# without using the regular expressions here:\n",
    "\n",
    "str1=input(\"enter the string:\")\n",
    "count=0\n",
    "vowels=[\"A\",\"E\",\"I\",\"O\",\"U\"]\n",
    "for i in str1:\n",
    "    if i in vowels:\n",
    "        count=count+1\n",
    "print(count)\n",
    "\n",
    "\n",
    "\n",
    "\n",
    "# now we try to print the total number of the vowels here either it may be upper case or lower case.\n",
    "# convert all the letters to upper() or lower() and find the length.\n",
    "\n",
    "str1=input(\"enter the string:\").upper()\n",
    "count=0\n",
    "\n",
    "vowels=[\"A\",\"E\",\"I\",\"O\",\"U\"] # since converted to the upper() here.\n",
    "for i in str1:\n",
    "    if i in vowels:\n",
    "        count=count+1\n",
    "print(count)\n",
    "\n",
    "enter the string:I love my India\n",
    "6\n",
    "\n",
    "\n",
    "\n",
    "import re\n",
    "string = 'NTR is A mass HerO Always'\n",
    "res = re.findall(r'[A|E|I|O|U]', string.upper())\n",
    "print(res)\n",
    "print (len(res))\n",
    "\n",
    "\n",
    "['I', 'A', 'A', 'E', 'O', 'A', 'A']\n",
    "7\n",
    "\n",
    "\n",
    "\n",
    "\n",
    "# we can simply give her as vowels=\"AEIOUaeiou\"\n",
    "str1=\"I love My INDIA always\"\n",
    "count=0\n",
    "vowels=\"AEIOUaeiou\"\n",
    "for i in str1:\n",
    "    if i in vowels:\n",
    "        count=count+1\n",
    "print(count)\n",
    "\n",
    "8\n",
    "\n",
    "\n",
    "str1=\"I love My INDIA always\"\n",
    "count=0\n",
    "vowels=\"AEIOU\"\n",
    "for i in str1:\n",
    "    if i.upper() in vowels:\n",
    "        count=count+1\n",
    "print(count)\n",
    "\n",
    "\n",
    "\n",
    "\n",
    "#5\n",
    "## \tCounting the number of the special characters in the string.\n",
    "\n",
    "import re\n",
    "string = 'NTR is A mass He&!?rO Alwa$%@*ys^^'\n",
    "res = re.findall(r'[^\\d\\w ]|\\^', string)\n",
    "print(res)\n",
    "print (len(res))\n",
    "\n",
    "\n",
    "['&', '!', '?', '$', '%', '@', '*', '^', '^']\n",
    "9\n",
    "\n",
    "\n",
    "\n",
    "\n",
    "# In a string module we have ascii_lowercase which prints a-z.\n",
    "import string\n",
    "print(string.ascii_lowercase) # if u are working only with the lowercase letters use this attribute\n",
    "print(string.ascii_uppercase) # if u are working only with the uppercase letters, use this\n",
    "print(string.ascii_letters) # this gives both the lower case and upper case alphabets.\n",
    "\n",
    "\n",
    "abcdefghijklmnopqrstuvwxyz\n",
    "ABCDEFGHIJKLMNOPQRSTUVWXYZ\n",
    "abcdefghijklmnopqrstuvwxyzABCDEFGHIJKLMNOPQRSTUVWXYZ\n",
    "\n",
    "\n",
    "# by using the above module, we can print the results .\n",
    "\n",
    "\n",
    "\n",
    "import string\n",
    "str1=\"I love My@&^%&!@?INDIA always\"\n",
    "let=string.ascii_letters\n",
    "print(let)\n",
    "count=0\n",
    "digit='0123456789 '\n",
    "for i in str1:\n",
    "    if i not in let and i not  in digit:\n",
    "        print(i)\n",
    "        count=count+1\n",
    "print(count)\n",
    "\n",
    "\n",
    "abcdefghijklmnopqrstuvwxyzABCDEFGHIJKLMNOPQRSTUVWXYZ\n",
    "@\n",
    "&\n",
    "^\n",
    "%\n",
    "&\n",
    "!\n",
    "@\n",
    "?\n",
    "\n",
    "\n",
    "\n",
    "\n",
    "\n",
    "#6\n",
    "## Counting the occurences of the each vowels\n",
    "\n",
    "str1=\"All the power is within you and u can do anything\"\n",
    "vowels=\"aeiou\"\n",
    "dict={\"a\":0,\"e\":0,\"i\":0,\"o\":0,\"u\":0}\n",
    "for i in str1.lower():\n",
    "    if i in dict:\n",
    "        dict[i]=dict[i]+1\n",
    "print(dict)\n",
    "\n",
    "\n",
    "{'a': 4, 'e': 2, 'i': 4, 'o': 3, 'u': 2}\n",
    "\n",
    "\n",
    "\n",
    "str1=\"All the power is within you and u can do anything\"\n",
    "vowels=\"aeiou\"\n",
    "dict={} # create an empty dictionary if u want \n",
    "for i in str1.lower():\n",
    "    if i in vowels:\n",
    "        dict[i]=0 # initiallize the dictionary with the vowels\n",
    "for i in str1.lower():\n",
    "    if i in dict:\n",
    "        dict[i]=dict[i]+1\n",
    "print(dict)\n",
    "\n",
    "\n",
    "{'a': 4, 'e': 2, 'i': 4, 'o': 3, 'u': 2}\n",
    "\n",
    "\n",
    "# fromkeys is used to \n",
    "\n",
    "vowels=\"aeiou\"\n",
    "dict={}.fromkeys(vowels)\n",
    "print(dict)\n",
    "\n",
    "{'a': None, 'e': None, 'i': None, 'o': None, 'u': None}\n",
    "\n",
    "\n",
    "\n",
    "# Original way here \n",
    "\n",
    "str1=\"All the power is within you and u can do anything\"\n",
    "vowels=\"aeiou\"\n",
    "dict={}.fromkeys(vowels,0) # this will create the dictionary and initialize the values to zero.\n",
    "for i in str1.lower():\n",
    "    if i in dict:\n",
    "        dict[i]=dict[i]+1\n",
    "print(dict)\n",
    "\n",
    "\n",
    "\n",
    "\n",
    "The casefold() method returns a string where all the characters are in lower case. It is similar to the lower() method, but the casefold()\n",
    " method converts more characters into lower case. For example, the German lowercase letter 'ß' is equivalent to 'ss' .\n",
    " \n",
    " # Program to count the number of each vowels\n",
    "\n",
    "# string of vowels\n",
    "vowels = 'aeiou'\n",
    "\n",
    "ip_str = 'Hello, have you tried our tutorial section yet?'\n",
    "\n",
    "# make it suitable for caseless comparisions\n",
    "ip_str = ip_str.casefold()\n",
    "\n",
    "# make a dictionary with each vowel a key and value 0\n",
    "count = {}.fromkeys(vowels,0)\n",
    "\n",
    "# count the vowels\n",
    "for char in ip_str:\n",
    "   if char in count:\n",
    "       count[char] += 1\n",
    "\n",
    "print(count)\n",
    "\n",
    "\n",
    "\n",
    "\n",
    "Parameter\tDescription\n",
    "keys\tRequired. An iterable specifying the keys of the new dictionary\n",
    "value\tOptional. The value for all keys. Default value is None\n",
    "\n",
    "\n",
    "# keys for the dictionary\n",
    "alphabets = {'a', 'b', 'c'}\n",
    "\n",
    "# value for the dictionary\n",
    "number = 1\n",
    "\n",
    "# creates a dictionary with keys and values\n",
    "dictionary = dict.fromkeys(alphabets, number)\n",
    "\n",
    "print(dictionary)\n",
    "\n",
    "# Output: {'a': 1, 'c': 1, 'b': 1}\n",
    "\n",
    "\n",
    "# 7\n",
    "## Counting the occurences of the each character \n",
    "\n",
    "\n",
    "str1=\"All the power is within you and u can do anything\"\n",
    "dict={}.fromkeys(str1,0)\n",
    "for i in str1:\n",
    "    if i in dict:\n",
    "        dict[i]=dict[i]+1\n",
    "print(dict)\n",
    "\n",
    "\n",
    "\n",
    "\n",
    "\n",
    "# first we need to find the unique characters here and initialize them in the dictionary.\n",
    "str1=\"All the power is within you and u can do anything @#$\"\n",
    "set1=set(str1)\n",
    "print(set1)\n",
    "dict={}.fromkeys(set1,0)\n",
    "for i in str1:\n",
    "    if i in dict:\n",
    "        dict[i]=dict[i]+1\n",
    "print(dict)\n",
    "\n",
    "\n",
    "{'d', 'a', 'c', 'r', 'u', 'A', 's', 'i', '@', 't', 'n', 'g', 'w', '#', '$', 'h', 'l', ' ', 'y', 'o', 'p', 'e'}\n",
    "{'d': 2, 'a': 3, 'c': 1, 'r': 1, 'u': 2, 'A': 1, 's': 1, 'i': 4, '@': 1, 't': 3, 'n': 5, 'g': 1, 'w': 2, '#': 1, '$': 1, 'h': 3, 'l': 2, ' ': 11, 'y': 2, 'o': 3, 'p': 1, 'e': 2}\n",
    "\n",
    "\n",
    "\n",
    "str1=\"All the power is within you and u can do anything @#$\"\n",
    "set1=set(str1)\n",
    "print(set1)\n",
    "dict={}.fromkeys(set1,0)\n",
    "for i in str1:\n",
    "        dict[i]=dict[i]+1\n",
    "print(dict)\n",
    "\n",
    "\n",
    "\n",
    "# 8\n",
    "## Fetch words with the even number of the characters\n",
    "\n",
    "str1=\"All the power is within you and u can do anything\"\n",
    "l1=str1.split(\" \")\n",
    "print(l1)\n",
    "for i in l1:\n",
    "    if len(i)%2==0:\n",
    "        print(i)\n",
    "\t\t\n",
    "\n",
    "\n",
    "\n",
    "['All', 'the', 'power', 'is', 'within', 'you', 'and', 'u', 'can', 'do', 'anything']\n",
    "is\n",
    "within\n",
    "do\n",
    "anything\n",
    "\n",
    "\n",
    "\n",
    "\n",
    "#9\n",
    "## Fetch the words which starts with capital letter \n",
    "\n",
    "str1=\"All the power is Within you and U can do Anything\"\n",
    "l1=str1.split(\" \")\n",
    "for i in l1:\n",
    "    for k in i: # simply we can also use i[0] as first character.\n",
    "        if k.isupper():\n",
    "            print(i)\n",
    "            break\n",
    "\n",
    "\n",
    "All\n",
    "Within\n",
    "U\n",
    "Anything\n",
    "\n",
    "\n",
    "str1=\"All the power is Within you and U can do Anything\"\n",
    "l1=str1.split(\" \")\n",
    "for i in l1:\n",
    "    if i.istitle():\n",
    "        print(i)\n",
    "\t\t\n",
    "\t\t\n",
    "\t\t\n",
    "All\n",
    "Within\n",
    "U\n",
    "Anything\n",
    "\n",
    "\n",
    "\n",
    "\n"
   ]
  },
  {
   "cell_type": "code",
   "execution_count": 1,
   "id": "87c59f56",
   "metadata": {},
   "outputs": [
    {
     "name": "stdout",
     "output_type": "stream",
     "text": [
      "All\n",
      "Within\n",
      "U\n",
      "Anything\n"
     ]
    }
   ],
   "source": [
    "# print the words whose first character starts with an capital letter\n",
    "\n",
    "str1=\"All the power is Within you and U can do Anything\"\n",
    "l1=str1.split(\" \")\n",
    "for i in l1:\n",
    "    if i[0].isupper()==True:\n",
    "        print(i)"
   ]
  },
  {
   "cell_type": "markdown",
   "id": "a9831616",
   "metadata": {},
   "source": [
    "# 9\n",
    "## Print the words which starts with an Vowel here.\n"
   ]
  },
  {
   "cell_type": "code",
   "execution_count": 2,
   "id": "2c798b4a",
   "metadata": {},
   "outputs": [
    {
     "name": "stdout",
     "output_type": "stream",
     "text": [
      "All\n",
      "is\n",
      "and\n",
      "U\n",
      "Anything\n"
     ]
    }
   ],
   "source": [
    "str1=\"All the power is Within you and U can do Anything\"\n",
    "l1=str1.split(\" \")\n",
    "for i in l1:\n",
    "    if i[0].lower() in \"aeiou\":\n",
    "        print(i)"
   ]
  },
  {
   "cell_type": "markdown",
   "id": "862a60b5",
   "metadata": {},
   "source": [
    "# 10\n",
    "## Fetching words starts and ends with consonats"
   ]
  },
  {
   "cell_type": "code",
   "execution_count": 4,
   "id": "5af11d8f",
   "metadata": {},
   "outputs": [
    {
     "name": "stdout",
     "output_type": "stream",
     "text": [
      "power\n",
      "Within\n",
      "can\n"
     ]
    }
   ],
   "source": [
    "str1=\"All the power is Within you and U can do Anything\"\n",
    "l1=str1.split(\" \")\n",
    "for i in l1: # check first and last characters are present in vowels or not.\n",
    "    if i[0].lower() not in \"aeiou\" and i[-1].lower() not in \"aeiou\":\n",
    "        print(i)"
   ]
  },
  {
   "cell_type": "markdown",
   "id": "422079e4",
   "metadata": {},
   "source": [
    "# 11\n",
    "## Fetching words starts and ends with vowels"
   ]
  },
  {
   "cell_type": "code",
   "execution_count": 6,
   "id": "5fb99529",
   "metadata": {},
   "outputs": [
    {
     "name": "stdout",
     "output_type": "stream",
     "text": [
      "U\n",
      "ohoooo\n"
     ]
    }
   ],
   "source": [
    "str1=\"All the power is Within you and U can do Anything ohoooo\"\n",
    "l1=str1.split(\" \")\n",
    "for i in l1: # check first and last characters are present in vowels or not.\n",
    "    if i[0].lower()  in \"aeiou\" and i[-1].lower() in \"aeiou\":\n",
    "        print(i)"
   ]
  },
  {
   "cell_type": "markdown",
   "id": "dc7a0bb6",
   "metadata": {},
   "source": [
    "# 12\n",
    "## Fetching word starts with vowel and ends with Consonant"
   ]
  },
  {
   "cell_type": "code",
   "execution_count": 7,
   "id": "1ca86d0f",
   "metadata": {},
   "outputs": [
    {
     "name": "stdout",
     "output_type": "stream",
     "text": [
      "All\n",
      "is\n",
      "and\n",
      "Anything\n"
     ]
    }
   ],
   "source": [
    "str1=\"All the power is Within you and U can do Anything ohoooo\"\n",
    "l1=str1.split(\" \")\n",
    "for i in l1: \n",
    "    if i[0].lower()  in \"aeiou\" and i[-1].lower() not in \"aeiou\":\n",
    "        print(i)"
   ]
  },
  {
   "cell_type": "markdown",
   "id": "005191c3",
   "metadata": {},
   "source": [
    "# 13\n",
    "## Fetch the words starts with consonant and ends with vowel"
   ]
  },
  {
   "cell_type": "code",
   "execution_count": 8,
   "id": "4517c550",
   "metadata": {},
   "outputs": [
    {
     "name": "stdout",
     "output_type": "stream",
     "text": [
      "the\n",
      "you\n",
      "do\n"
     ]
    }
   ],
   "source": [
    "str1=\"All the power is Within you and U can do Anything ohoooo\"\n",
    "l1=str1.split(\" \")\n",
    "for i in l1: # \n",
    "    if i[0].lower() not  in \"aeiou\" and i[-1].lower()  in \"aeiou\":\n",
    "        print(i)"
   ]
  },
  {
   "cell_type": "markdown",
   "id": "b386935f",
   "metadata": {},
   "source": [
    "# 14\n",
    "## Fetching words starts with consonant and ends with vowel comprehension"
   ]
  },
  {
   "cell_type": "raw",
   "id": "ee24485c",
   "metadata": {},
   "source": [
    "# here don't confuse with comprehension.\n",
    "# it means we can write the for loop and it's condition within a single line here.\n",
    "# if we use tuple, then it is called as tuple comprehension."
   ]
  },
  {
   "cell_type": "raw",
   "id": "29c6f519",
   "metadata": {},
   "source": [
    "### Comprehension\n",
    "##### syntax:  <exp> <for_loop> <if-condition>"
   ]
  },
  {
   "cell_type": "code",
   "execution_count": 11,
   "id": "a60e81cb",
   "metadata": {},
   "outputs": [
    {
     "name": "stdout",
     "output_type": "stream",
     "text": [
      "['the', 'you', 'do']\n"
     ]
    }
   ],
   "source": [
    "str1=\"All the power is Within you and U can do Anything ohoooo\"\n",
    "l1=str1.split(\" \")\n",
    "v=[i  for i in l1  if i[0].lower() not  in \"aeiou\" and i[-1].lower()  in \"aeiou\"] # this is list comprehension\n",
    "print(v)"
   ]
  },
  {
   "cell_type": "code",
   "execution_count": 15,
   "id": "c0e4ab5d",
   "metadata": {},
   "outputs": [
    {
     "name": "stdout",
     "output_type": "stream",
     "text": [
      "['the', 'you', 'do']\n"
     ]
    }
   ],
   "source": [
    "str1=\"All the power is Within you and U can do Anything ohoooo\"\n",
    "v=[i  for i in str1.split()  if i[0].lower() not  in \"aeiou\" and i[-1].lower()  in \"aeiou\"] # this is list comprehension\n",
    "print(v)\n",
    "# first for loop executes here and then if condition and the resultant expression given."
   ]
  },
  {
   "cell_type": "markdown",
   "id": "dea2842b",
   "metadata": {},
   "source": [
    "# 15\n",
    "## Fetching all vowels from string"
   ]
  },
  {
   "cell_type": "code",
   "execution_count": 17,
   "id": "d6cd8092",
   "metadata": {},
   "outputs": [
    {
     "name": "stdout",
     "output_type": "stream",
     "text": [
      "['A', 'e', 'o', 'e', 'i', 'i', 'i', 'o', 'u', 'a', 'U', 'a', 'o', 'A', 'i', 'o', 'o', 'o', 'o', 'o']\n"
     ]
    }
   ],
   "source": [
    "str1=\"All the power is Within you and U can do Anything ohoooo\"\n",
    "v=[i  for i in str1   if i.lower()  in \"aeiou\"] # this is list comprehension\n",
    "print(v)"
   ]
  },
  {
   "cell_type": "code",
   "execution_count": 18,
   "id": "eaf26968",
   "metadata": {},
   "outputs": [
    {
     "name": "stdout",
     "output_type": "stream",
     "text": [
      "A\n",
      "e\n",
      "o\n",
      "e\n",
      "i\n",
      "i\n",
      "i\n",
      "o\n",
      "u\n",
      "a\n",
      "U\n",
      "a\n",
      "o\n",
      "A\n",
      "i\n",
      "o\n",
      "o\n",
      "o\n",
      "o\n",
      "o\n"
     ]
    }
   ],
   "source": [
    "# without using the comprehension\n",
    "str1=\"All the power is Within you and U can do Anything ohoooo\"\n",
    "vowels=\"aeiou\"\n",
    "for i in str1:\n",
    "    if i.lower() in vowels:\n",
    "        print(i)"
   ]
  },
  {
   "cell_type": "markdown",
   "id": "73fa2b22",
   "metadata": {},
   "source": [
    "# 16\n",
    "## Fetching all consonants from the string"
   ]
  },
  {
   "cell_type": "code",
   "execution_count": 20,
   "id": "c4787f69",
   "metadata": {},
   "outputs": [
    {
     "name": "stdout",
     "output_type": "stream",
     "text": [
      "l\n",
      "l\n",
      "t\n",
      "h\n",
      "p\n",
      "w\n",
      "r\n",
      "s\n",
      "W\n",
      "t\n",
      "h\n",
      "n\n",
      "y\n",
      "n\n",
      "d\n",
      "c\n",
      "n\n",
      "d\n",
      "n\n",
      "y\n",
      "t\n",
      "h\n",
      "n\n",
      "g\n",
      "h\n"
     ]
    }
   ],
   "source": [
    "# without using the comprehension\n",
    "str1=\"All the power is Within you and U can do Anything ohoooo\"\n",
    "vowels=\"aeiou\"\n",
    "for i in str1:\n",
    "    if i.lower() not  in vowels and i!=\" \":\n",
    "        print(i)"
   ]
  },
  {
   "cell_type": "code",
   "execution_count": 22,
   "id": "3c6d0333",
   "metadata": {},
   "outputs": [
    {
     "name": "stdout",
     "output_type": "stream",
     "text": [
      "['l', 'l', 't', 'h', 'p', 'w', 'r', 's', 'W', 't', 'h', 'n', 'y', 'n', 'd', 'c', 'n', 'd', 'n', 'y', 't', 'h', 'n', 'g', 'h']\n"
     ]
    }
   ],
   "source": [
    "str1=\"All the power is Within you and U can do Anything ohoooo\"\n",
    "v=[i  for i in str1   if i.lower() not   in \"aeiou \"] # this is list comprehension\n",
    "print(v)"
   ]
  },
  {
   "cell_type": "markdown",
   "id": "230a7cd7",
   "metadata": {},
   "source": [
    "# 17\n",
    "## Fetching first character from the each word"
   ]
  },
  {
   "cell_type": "code",
   "execution_count": 23,
   "id": "ff0fe327",
   "metadata": {},
   "outputs": [
    {
     "name": "stdout",
     "output_type": "stream",
     "text": [
      "['A', 't', 'p', 'i', 'W', 'y', 'a', 'U', 'c', 'd', 'A', 'o']\n"
     ]
    }
   ],
   "source": [
    "str1=\"All the power is Within you and U can do Anything ohoooo\"\n",
    "v=[i[0]  for i in str1.split() ] # this is list comprehension\n",
    "print(v)"
   ]
  },
  {
   "cell_type": "code",
   "execution_count": 26,
   "id": "b7a749d7",
   "metadata": {},
   "outputs": [
    {
     "name": "stdout",
     "output_type": "stream",
     "text": [
      "A,t,p,i,W,y,a,U,c,d,A,o,"
     ]
    }
   ],
   "source": [
    "str1=\"All the power is Within you and U can do Anything ohoooo\"\n",
    "l1=str1.split()\n",
    "for i in l1:\n",
    "    print(i[0],end=\",\")"
   ]
  },
  {
   "cell_type": "code",
   "execution_count": 27,
   "id": "23c025ad",
   "metadata": {},
   "outputs": [
    {
     "name": "stdout",
     "output_type": "stream",
     "text": [
      "['A', 't', 'p', 'i', 'W', 'y', 'a', 'U', 'c', 'd', 'A', 'o']\n"
     ]
    }
   ],
   "source": [
    "print([i[0]  for i in str1.split() ])"
   ]
  },
  {
   "cell_type": "markdown",
   "id": "dafa3540",
   "metadata": {},
   "source": [
    "# 18\n",
    "## Fetching last character from each word"
   ]
  },
  {
   "cell_type": "code",
   "execution_count": 28,
   "id": "b78040ab",
   "metadata": {},
   "outputs": [
    {
     "name": "stdout",
     "output_type": "stream",
     "text": [
      "l,e,r,s,n,u,d,U,n,o,g,o,"
     ]
    }
   ],
   "source": [
    "str1=\"All the power is Within you and U can do Anything ohoooo\"\n",
    "l1=str1.split()\n",
    "for i in l1:\n",
    "    print(i[-1],end=\",\")"
   ]
  },
  {
   "cell_type": "code",
   "execution_count": 29,
   "id": "a973505b",
   "metadata": {},
   "outputs": [
    {
     "name": "stdout",
     "output_type": "stream",
     "text": [
      "['l', 'e', 'r', 's', 'n', 'u', 'd', 'U', 'n', 'o', 'g', 'o']\n"
     ]
    }
   ],
   "source": [
    "print([i[-1]  for i in str1.split() ])"
   ]
  },
  {
   "cell_type": "markdown",
   "id": "e590e826",
   "metadata": {},
   "source": [
    "# 19\n",
    "## Fetching First & Last character from each word "
   ]
  },
  {
   "cell_type": "code",
   "execution_count": 30,
   "id": "3bf2fabb",
   "metadata": {},
   "outputs": [
    {
     "name": "stdout",
     "output_type": "stream",
     "text": [
      "A l\n",
      "t e\n",
      "p r\n",
      "i s\n",
      "W n\n",
      "y u\n",
      "a d\n",
      "U U\n",
      "c n\n",
      "d o\n",
      "A g\n",
      "o o\n"
     ]
    }
   ],
   "source": [
    "str1=\"All the power is Within you and U can do Anything ohoooo\"\n",
    "l1=str1.split()\n",
    "for i in l1:\n",
    "    print(i[0],i[-1])"
   ]
  },
  {
   "cell_type": "code",
   "execution_count": 32,
   "id": "a25a0018",
   "metadata": {},
   "outputs": [
    {
     "name": "stdout",
     "output_type": "stream",
     "text": [
      "['A l', 't e', 'p r', 'i s', 'W n', 'y u', 'a d', 'U U', 'c n', 'd o', 'A g', 'o o']\n"
     ]
    }
   ],
   "source": [
    "str1=\"All the power is Within you and U can do Anything ohoooo\"\n",
    "print([i[0]+\" \"+i[-1]  for i in str1.split() ])"
   ]
  },
  {
   "cell_type": "markdown",
   "id": "823ea421",
   "metadata": {},
   "source": [
    "# 20\n",
    "## Fetching special characters from the given string"
   ]
  },
  {
   "cell_type": "code",
   "execution_count": 40,
   "id": "e0e46e88",
   "metadata": {},
   "outputs": [
    {
     "name": "stdout",
     "output_type": "stream",
     "text": [
      " \n",
      " \n",
      "#\n",
      "$\n",
      "%\n",
      "*\n",
      " \n"
     ]
    }
   ],
   "source": [
    "st1=\"Narayana is #$%* 123\"\n",
    "# we should use the string module here .\n",
    "import string\n",
    "for i in st1:\n",
    "    if i not in string.ascii_letters and i not in string.digits:\n",
    "        print(i)\n",
    "    "
   ]
  },
  {
   "cell_type": "code",
   "execution_count": 41,
   "id": "08972c72",
   "metadata": {},
   "outputs": [
    {
     "name": "stdout",
     "output_type": "stream",
     "text": [
      "0123456789\n"
     ]
    }
   ],
   "source": [
    "import string\n",
    "print(string.digits)"
   ]
  },
  {
   "cell_type": "code",
   "execution_count": 42,
   "id": "57c80687",
   "metadata": {},
   "outputs": [
    {
     "data": {
      "text/plain": [
       "'abcdefghijklmnopqrstuvwxyzABCDEFGHIJKLMNOPQRSTUVWXYZ'"
      ]
     },
     "execution_count": 42,
     "metadata": {},
     "output_type": "execute_result"
    }
   ],
   "source": [
    "string.ascii_letters"
   ]
  },
  {
   "cell_type": "code",
   "execution_count": 43,
   "id": "a6952931",
   "metadata": {},
   "outputs": [
    {
     "data": {
      "text/plain": [
       "'ABCDEFGHIJKLMNOPQRSTUVWXYZ'"
      ]
     },
     "execution_count": 43,
     "metadata": {},
     "output_type": "execute_result"
    }
   ],
   "source": [
    "string.ascii_uppercase"
   ]
  },
  {
   "cell_type": "code",
   "execution_count": 46,
   "id": "27860774",
   "metadata": {},
   "outputs": [
    {
     "data": {
      "text/plain": [
       "[' ', ' ', '#', '$', '%', '*', ' ']"
      ]
     },
     "execution_count": 46,
     "metadata": {},
     "output_type": "execute_result"
    }
   ],
   "source": [
    "[i for i in st1 if i not in string.ascii_letters and i not in string.digits]"
   ]
  },
  {
   "cell_type": "code",
   "execution_count": null,
   "id": "a03ef8d0",
   "metadata": {},
   "outputs": [],
   "source": []
  }
 ],
 "metadata": {
  "kernelspec": {
   "display_name": "Python 3 (ipykernel)",
   "language": "python",
   "name": "python3"
  },
  "language_info": {
   "codemirror_mode": {
    "name": "ipython",
    "version": 3
   },
   "file_extension": ".py",
   "mimetype": "text/x-python",
   "name": "python",
   "nbconvert_exporter": "python",
   "pygments_lexer": "ipython3",
   "version": "3.9.13"
  }
 },
 "nbformat": 4,
 "nbformat_minor": 5
}
