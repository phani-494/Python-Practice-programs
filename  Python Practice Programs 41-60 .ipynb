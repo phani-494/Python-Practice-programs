{
 "cells": [
  {
   "cell_type": "markdown",
   "id": "45f4a014",
   "metadata": {},
   "source": [
    "# 1\n",
    "## Convert string to Pascal case Mr Narayana Tech House"
   ]
  },
  {
   "cell_type": "raw",
   "id": "43797ce5",
   "metadata": {},
   "source": [
    "# if \" all is well\" given then it will be represented in the pascal case as \"AllIsWell\"\n",
    "# it is simply each first character in the string will be capital"
   ]
  },
  {
   "cell_type": "code",
   "execution_count": 3,
   "id": "e3ce747f",
   "metadata": {},
   "outputs": [
    {
     "name": "stdout",
     "output_type": "stream",
     "text": [
      "AllIsWell\n"
     ]
    }
   ],
   "source": [
    "# upto somewhat okay  and good thought\n",
    "str1=\"all is well\"\n",
    "l1=str1.title() # All Is Well\n",
    "str2=l1.replace(\" \",\"\") # replace the space with an empty string\n",
    "print(str2)"
   ]
  },
  {
   "cell_type": "code",
   "execution_count": 9,
   "id": "2deea9d9",
   "metadata": {},
   "outputs": [
    {
     "name": "stdout",
     "output_type": "stream",
     "text": [
      "IndiaIsTheGreatestCountry\n"
     ]
    }
   ],
   "source": [
    "# convert the first character to upper() and remaining characters to lower case.\n",
    "st=\"india is the greatest country\"\n",
    "l1=st.split()\n",
    "str1=\"\" # take an empty string here if u want to add other strings continously.\n",
    "for i in l1:\n",
    "    str1=str1+i[0].upper()+i[1:].lower()\n",
    "print(str1)"
   ]
  },
  {
   "cell_type": "code",
   "execution_count": 10,
   "id": "019f2f1c",
   "metadata": {},
   "outputs": [
    {
     "data": {
      "text/plain": [
       "'All Is Well'"
      ]
     },
     "execution_count": 10,
     "metadata": {},
     "output_type": "execute_result"
    }
   ],
   "source": [
    "\"ALL is WEll\".title()"
   ]
  },
  {
   "cell_type": "markdown",
   "id": "e035e3d9",
   "metadata": {},
   "source": [
    "# 2\n",
    "## Convert string to the camel case"
   ]
  },
  {
   "cell_type": "raw",
   "id": "0a68d913",
   "metadata": {},
   "source": [
    "# here complete first word will be in lower case and from the second word,every first character will be the upper case only.\n",
    "ex- allIsWell"
   ]
  },
  {
   "cell_type": "code",
   "execution_count": 13,
   "id": "34c1cce0",
   "metadata": {},
   "outputs": [
    {
     "name": "stdout",
     "output_type": "stream",
     "text": [
      "indiaIsTheGreatestCountry\n"
     ]
    }
   ],
   "source": [
    "st=\"india is the greatest country\"\n",
    "l1=st.split()\n",
    "str1=\"\" # take an empty string here if u want to add other strings continously.\n",
    "for i in l1[1:]:\n",
    "    str1=str1+i[0].upper()+i[1:].lower()\n",
    "print(l1[0].lower()+str1)"
   ]
  },
  {
   "cell_type": "code",
   "execution_count": 14,
   "id": "ef9ad32d",
   "metadata": {},
   "outputs": [],
   "source": [
    "# it is always better to use the floats only when we are performing mathematical calculations\n",
    "# since int cannot be useful when user give the float.\n",
    "# but float will work even if the user gives int values."
   ]
  },
  {
   "cell_type": "code",
   "execution_count": 15,
   "id": "6e8ccfe5",
   "metadata": {},
   "outputs": [
    {
     "name": "stdout",
     "output_type": "stream",
     "text": [
      "Enter a value:10.14\n",
      "Enter b value:34.36\n",
      "44.5 -24.22\n"
     ]
    }
   ],
   "source": [
    "a=float(input(\"Enter a value:\"))\n",
    "b=float(input(\"Enter b value:\"))\n",
    "sum=a+b\n",
    "diff=a-b\n",
    "print(sum,diff)"
   ]
  },
  {
   "cell_type": "markdown",
   "id": "bd58df96",
   "metadata": {},
   "source": [
    "# 3\n",
    "## Convert string into the snake case"
   ]
  },
  {
   "cell_type": "code",
   "execution_count": 34,
   "id": "c09df22e",
   "metadata": {},
   "outputs": [
    {
     "data": {
      "text/plain": [
       "'all_is_well'"
      ]
     },
     "execution_count": 34,
     "metadata": {},
     "output_type": "execute_result"
    }
   ],
   "source": [
    "# each word should be joined using the _ character wherever the space is present.\n",
    "str1=\"all is well\"\n",
    "l1=str1.split()\n",
    "\"_\".join(l1)"
   ]
  },
  {
   "cell_type": "code",
   "execution_count": 38,
   "id": "7a617410",
   "metadata": {},
   "outputs": [
    {
     "name": "stdout",
     "output_type": "stream",
     "text": [
      "all_is_well\n"
     ]
    }
   ],
   "source": [
    "# without using any inbuilt functions,perform this operations.\n",
    "s1=\"\"\n",
    "for i in str1:\n",
    "    if i==\" \":\n",
    "        s1=s1+\"_\"\n",
    "    else:\n",
    "        s1=s1+i\n",
    "print(s1)\n"
   ]
  },
  {
   "cell_type": "code",
   "execution_count": 36,
   "id": "e46c35be",
   "metadata": {},
   "outputs": [
    {
     "name": "stdout",
     "output_type": "stream",
     "text": [
      "all_is_well\n"
     ]
    }
   ],
   "source": [
    "# we can simply use the replace such as wherever space is present, replace with the _.\n",
    "print(str1.replace(\" \",\"_\"))"
   ]
  },
  {
   "cell_type": "markdown",
   "id": "709312b3",
   "metadata": {},
   "source": [
    "# 4\n",
    "## Reverse the string."
   ]
  },
  {
   "cell_type": "code",
   "execution_count": 21,
   "id": "a46f1a7e",
   "metadata": {},
   "outputs": [
    {
     "name": "stdout",
     "output_type": "stream",
     "text": [
      "<reversed object at 0x000001BC26B6EEB0>\n"
     ]
    },
    {
     "data": {
      "text/plain": [
       "'ydder anesardnI'"
      ]
     },
     "execution_count": 21,
     "metadata": {},
     "output_type": "execute_result"
    }
   ],
   "source": [
    "# using the string method\n",
    "import string\n",
    "str1=\"Indrasena reddy\"\n",
    "print(reversed(str1)) # this gives an iterator object here \n",
    "\"\".join(reversed(str1)) # we need to use the join() and print it."
   ]
  },
  {
   "cell_type": "code",
   "execution_count": 22,
   "id": "c462813e",
   "metadata": {},
   "outputs": [
    {
     "name": "stdout",
     "output_type": "stream",
     "text": [
      "<reversed object at 0x000001BC26B68D60>\n"
     ]
    },
    {
     "data": {
      "text/plain": [
       "'y_d_d_e_r_ _a_n_e_s_a_r_d_n_I'"
      ]
     },
     "execution_count": 22,
     "metadata": {},
     "output_type": "execute_result"
    }
   ],
   "source": [
    "import string\n",
    "str1=\"Indrasena reddy\"\n",
    "print(reversed(str1)) # this gives an object here \n",
    "\"_\".join(reversed(str1))"
   ]
  },
  {
   "cell_type": "code",
   "execution_count": 25,
   "id": "30924ebe",
   "metadata": {},
   "outputs": [
    {
     "name": "stdout",
     "output_type": "stream",
     "text": [
      "y\n",
      "d\n",
      "d\n",
      "e\n",
      "r\n",
      " \n",
      "a\n",
      "n\n",
      "e\n",
      "s\n",
      "a\n",
      "r\n",
      "d\n",
      "n\n",
      "I\n"
     ]
    }
   ],
   "source": [
    "for i in reversed(str1): # to print the values in the generator or an iterator,we need to use the for loop\n",
    "    print(i)"
   ]
  },
  {
   "cell_type": "code",
   "execution_count": 27,
   "id": "88067d7d",
   "metadata": {},
   "outputs": [
    {
     "name": "stdout",
     "output_type": "stream",
     "text": [
      "ydder anesardnI\n"
     ]
    }
   ],
   "source": [
    "str1=\"Indrasena reddy\"\n",
    "s=\"\"\n",
    "for i in str1:\n",
    "    s=i+s # just first add the i value here.\n",
    "print(s)"
   ]
  },
  {
   "cell_type": "code",
   "execution_count": 28,
   "id": "4454cade",
   "metadata": {},
   "outputs": [
    {
     "name": "stdout",
     "output_type": "stream",
     "text": [
      "y\n",
      "d\n",
      "d\n",
      "e\n",
      "r\n",
      " \n",
      "a\n",
      "n\n",
      "e\n",
      "s\n",
      "a\n",
      "r\n",
      "d\n",
      "n\n",
      "I\n"
     ]
    }
   ],
   "source": [
    "# we can also use the slicing method here.\n",
    "# for backward slicing use the negative indexes\n",
    "for i in str1[-1::-1]:\n",
    "    print(i)"
   ]
  },
  {
   "cell_type": "code",
   "execution_count": 29,
   "id": "5f0ca558",
   "metadata": {},
   "outputs": [
    {
     "name": "stdout",
     "output_type": "stream",
     "text": [
      "y\n",
      "d\n",
      "d\n",
      "e\n",
      "r\n",
      " \n",
      "a\n",
      "n\n",
      "e\n",
      "s\n",
      "a\n",
      "r\n",
      "d\n",
      "n\n"
     ]
    }
   ],
   "source": [
    "for i in str1[-1:0:-1]:\n",
    "    print(i) "
   ]
  },
  {
   "cell_type": "code",
   "execution_count": 31,
   "id": "30db6a83",
   "metadata": {},
   "outputs": [
    {
     "name": "stdout",
     "output_type": "stream",
     "text": [
      "ydder anesardnI\n"
     ]
    }
   ],
   "source": [
    "# without using the for loop we can simply print like this here.\n",
    "print(str1[-1::-1])"
   ]
  },
  {
   "cell_type": "markdown",
   "id": "76819443",
   "metadata": {},
   "source": [
    "# 5\n",
    "## Python string : Ascending order"
   ]
  },
  {
   "cell_type": "code",
   "execution_count": 39,
   "id": "050a7cb4",
   "metadata": {},
   "outputs": [
    {
     "name": "stdout",
     "output_type": "stream",
     "text": [
      "[' ', ' ', ' ', 'P', 'a', 'a', 'a', 'e', 'e', 'g', 'g', 'h', 'i', 'l', 'n', 'n', 'o', 's', 's', 't', 'u', 'y', 'y']\n"
     ]
    }
   ],
   "source": [
    "str1=\"Python is easy language\"\n",
    "print(sorted(str1))"
   ]
  },
  {
   "cell_type": "code",
   "execution_count": 40,
   "id": "6c4c2aea",
   "metadata": {},
   "outputs": [
    {
     "data": {
      "text/plain": [
       "'   Paaaeegghilnnosstuyy'"
      ]
     },
     "execution_count": 40,
     "metadata": {},
     "output_type": "execute_result"
    }
   ],
   "source": [
    "\"\".join(sorted(str1))"
   ]
  },
  {
   "cell_type": "markdown",
   "id": "46486b39",
   "metadata": {},
   "source": [
    "# 6\n",
    "## Descending order"
   ]
  },
  {
   "cell_type": "code",
   "execution_count": 45,
   "id": "13f4e597",
   "metadata": {},
   "outputs": [
    {
     "name": "stdout",
     "output_type": "stream",
     "text": [
      "yyutssonnlihggeeaaaP   \n"
     ]
    }
   ],
   "source": [
    "print(\"\".join(sorted(str1,reverse=True)))"
   ]
  },
  {
   "cell_type": "code",
   "execution_count": 46,
   "id": "7090020e",
   "metadata": {},
   "outputs": [
    {
     "name": "stdout",
     "output_type": "stream",
     "text": [
      "10.0\n"
     ]
    }
   ],
   "source": [
    "# 7\n",
    "## print square root of a number\n",
    "\n",
    "import math\n",
    "print(math.sqrt(100))"
   ]
  },
  {
   "cell_type": "markdown",
   "id": "6681d25c",
   "metadata": {},
   "source": [
    "# 7\n",
    "## Reversing the words in a string "
   ]
  },
  {
   "cell_type": "code",
   "execution_count": 5,
   "id": "3988f977",
   "metadata": {},
   "outputs": [
    {
     "name": "stdout",
     "output_type": "stream",
     "text": [
      "well is All  \n"
     ]
    }
   ],
   "source": [
    "# All is well\" should be printed as \"well is All\"\n",
    "str1=\"All is well\"\n",
    "st=\" \"\n",
    "for i in str1.split():\n",
    "    st=i+\" \"+st\n",
    "print(st)"
   ]
  },
  {
   "cell_type": "code",
   "execution_count": 7,
   "id": "10fe0841",
   "metadata": {},
   "outputs": [
    {
     "name": "stdout",
     "output_type": "stream",
     "text": [
      "<list_reverseiterator object at 0x000001EAB81A92E0>\n"
     ]
    }
   ],
   "source": [
    "# we can also use the reversed()\n",
    "print(reversed(str1.split()))"
   ]
  },
  {
   "cell_type": "code",
   "execution_count": 9,
   "id": "b883d53a",
   "metadata": {},
   "outputs": [
    {
     "data": {
      "text/plain": [
       "'well is All'"
      ]
     },
     "execution_count": 9,
     "metadata": {},
     "output_type": "execute_result"
    }
   ],
   "source": [
    "\" \".join(reversed(str1.split()))"
   ]
  },
  {
   "cell_type": "markdown",
   "id": "413ce6e6",
   "metadata": {},
   "source": [
    "# 8\n",
    "## Swapping the cases of string (without using the swapcase())"
   ]
  },
  {
   "cell_type": "code",
   "execution_count": 12,
   "id": "b07d9f0f",
   "metadata": {},
   "outputs": [
    {
     "name": "stdout",
     "output_type": "stream",
     "text": [
      "aLL iS weLL\n"
     ]
    }
   ],
   "source": [
    "# converting lowercase into the upper case and upper into the lower case\n",
    "str1=\"All Is WEll\"\n",
    "s1=\"\"\n",
    "for i in str1:\n",
    "    if i.islower()==True:\n",
    "        s1=s1+i.upper()\n",
    "    elif i.isupper()==True:\n",
    "        s1=s1+i.lower()\n",
    "    elif i==\" \":\n",
    "        s1=s1+\" \"\n",
    "    else:\n",
    "        s1=s1+i\n",
    "print(s1)"
   ]
  },
  {
   "cell_type": "code",
   "execution_count": 15,
   "id": "58e983b6",
   "metadata": {},
   "outputs": [
    {
     "name": "stdout",
     "output_type": "stream",
     "text": [
      "aLL iS weLL\n"
     ]
    }
   ],
   "source": [
    "# in  a single line also,we can print this.\n",
    "print(str1.swapcase()) # no arguments needed here. just swapcase() and print it."
   ]
  },
  {
   "cell_type": "markdown",
   "id": "52ff63e3",
   "metadata": {},
   "source": [
    "# 9\n",
    "## Interchanging keys and values in dict"
   ]
  },
  {
   "cell_type": "code",
   "execution_count": 19,
   "id": "099bbd12",
   "metadata": {},
   "outputs": [
    {
     "name": "stdout",
     "output_type": "stream",
     "text": [
      "{'a': 100, 'b': 200, 'c': 300, 'd': 400, 'e': 500}\n",
      "{100: 'a', 200: 'b', 300: 'c', 400: 'd', 500: 'e'}\n"
     ]
    }
   ],
   "source": [
    "dict1={\"a\":100,\"b\":200,\"c\":300,\"d\":400,\"e\":500}\n",
    "dict2={}\n",
    "for i,j in dict1.items():\n",
    "    dict2[j]=i\n",
    "print(dict1)\n",
    "print(dict2)"
   ]
  },
  {
   "cell_type": "code",
   "execution_count": 20,
   "id": "700a840c",
   "metadata": {},
   "outputs": [
    {
     "name": "stdout",
     "output_type": "stream",
     "text": [
      "{100: 'a', 200: 'b', 300: 'c', 400: 'd', 500: 'e'}\n"
     ]
    }
   ],
   "source": [
    "# we can also use the dictionary comprehension here.\n",
    "print({value:key for key,value in dict1.items()})"
   ]
  },
  {
   "cell_type": "markdown",
   "id": "5505faed",
   "metadata": {},
   "source": [
    "## 10\n",
    "# finding the sqaures of all even numbers in the given list"
   ]
  },
  {
   "cell_type": "code",
   "execution_count": 21,
   "id": "7b9b1a1c",
   "metadata": {},
   "outputs": [
    {
     "name": "stdout",
     "output_type": "stream",
     "text": [
      "16\n",
      "1156\n",
      "400\n"
     ]
    }
   ],
   "source": [
    "lst=[3,4,5,67,89,34,20]\n",
    "for i in lst:\n",
    "    if i%2==0:\n",
    "        print(i*i)"
   ]
  },
  {
   "cell_type": "code",
   "execution_count": 25,
   "id": "544112d7",
   "metadata": {},
   "outputs": [
    {
     "name": "stdout",
     "output_type": "stream",
     "text": [
      "[16, 1156, 400]\n"
     ]
    }
   ],
   "source": [
    "# simply using the list comprehension\n",
    "print([i*i for i in lst if i%2==0])"
   ]
  },
  {
   "cell_type": "markdown",
   "id": "727c9221",
   "metadata": {},
   "source": [
    "# 11\n",
    "## Reversing pairs in the dictionary"
   ]
  },
  {
   "cell_type": "raw",
   "id": "69b8d907",
   "metadata": {},
   "source": [
    "{\"a\":100,\"b\":200,\"c\":300,\"d\":400,\"e\":500}\n",
    "here pair means key and it's value.\n",
    "simply we reverse it as 500:\"e\",400:\"d\",300:\"d\".....\n",
    "        # entire pair will be reversed"
   ]
  },
  {
   "cell_type": "code",
   "execution_count": 32,
   "id": "c406a1b5",
   "metadata": {},
   "outputs": [
    {
     "name": "stdout",
     "output_type": "stream",
     "text": [
      "[('a', 100), ('b', 200), ('c', 300), ('d', 400), ('e', 500)]\n",
      "[('e', 500), ('d', 400), ('c', 300), ('b', 200), ('a', 100)]\n",
      "{'e': 500, 'd': 400, 'c': 300, 'b': 200, 'a': 100}\n"
     ]
    }
   ],
   "source": [
    "dict1={\"a\":100,\"b\":200,\"c\":300,\"d\":400,\"e\":500}\n",
    "l1=[]\n",
    "for i in dict1.items():\n",
    "    l1.append(i) # first convert them into the list.\n",
    "print(l1)\n",
    "l1.reverse() # if u print it, it will result in None . This effect will takes place on the list itself\n",
    "print(l1)\n",
    "print(dict(l1)) # convert the list into dict if only key value pairs are present\n",
    "    \n",
    "    "
   ]
  },
  {
   "cell_type": "code",
   "execution_count": 33,
   "id": "39836e12",
   "metadata": {},
   "outputs": [
    {
     "name": "stdout",
     "output_type": "stream",
     "text": [
      "{'e': 500, 'd': 400, 'c': 300, 'b': 200, 'a': 100}\n"
     ]
    }
   ],
   "source": [
    "# we can also create an empty dictionary here and get the desired result we want.\n",
    "dict1={\"a\":100,\"b\":200,\"c\":300,\"d\":400,\"e\":500}\n",
    "lst=list(dict1.items())\n",
    "lst.reverse()\n",
    "d1={}\n",
    "for key,value in lst:\n",
    "    d1[key]=value\n",
    "print(d1)"
   ]
  },
  {
   "cell_type": "markdown",
   "id": "7e0e75f1",
   "metadata": {},
   "source": [
    "# 12\n",
    "## Fetching all Unique elements from the list\n"
   ]
  },
  {
   "cell_type": "code",
   "execution_count": 36,
   "id": "42cb8304",
   "metadata": {},
   "outputs": [
    {
     "name": "stdout",
     "output_type": "stream",
     "text": [
      "{12, 45, 13, 78, 87, 56}\n",
      "[12, 45, 13, 78, 87, 56]\n"
     ]
    }
   ],
   "source": [
    "l1=[12,13,45,56,56,78,87,12,13,45]\n",
    "print(set(l1))\n",
    "print(list(set(l1))) # we can convert list to set and viceversa"
   ]
  },
  {
   "cell_type": "code",
   "execution_count": 35,
   "id": "f9b22eba",
   "metadata": {},
   "outputs": [
    {
     "name": "stdout",
     "output_type": "stream",
     "text": [
      "[12, 13, 45, 56, 78, 87]\n"
     ]
    }
   ],
   "source": [
    "# without using the set function\n",
    "l2=[]\n",
    "for i in l1:\n",
    "    if i not in l2:\n",
    "        l2.append(i)\n",
    "print(l2)"
   ]
  },
  {
   "cell_type": "markdown",
   "id": "fad29a58",
   "metadata": {},
   "source": [
    "# 13\n",
    "## Fetching only integer values from the list"
   ]
  },
  {
   "cell_type": "code",
   "execution_count": 40,
   "id": "d409c3df",
   "metadata": {},
   "outputs": [
    {
     "name": "stdout",
     "output_type": "stream",
     "text": [
      "42\n",
      "13\n",
      "45\n",
      "34\n"
     ]
    }
   ],
   "source": [
    "l1=[12.9,13.0,42,13,45,\"mahi\",None,True,\"raja\",34]\n",
    "for i in l1:\n",
    "    if type(i)==int:\n",
    "        print(i)"
   ]
  },
  {
   "cell_type": "code",
   "execution_count": 41,
   "id": "a6c70803",
   "metadata": {},
   "outputs": [
    {
     "name": "stdout",
     "output_type": "stream",
     "text": [
      "[42, 13, 45, 34]\n"
     ]
    }
   ],
   "source": [
    "# by using list comprehension,we can perform it in a single line.\n",
    "print([i for i in l1 if type(i) is int])"
   ]
  },
  {
   "cell_type": "markdown",
   "id": "a3588647",
   "metadata": {},
   "source": [
    "# 14\n",
    "## Repeating more Number of times in string"
   ]
  },
  {
   "cell_type": "code",
   "execution_count": 54,
   "id": "43be28ab",
   "metadata": {},
   "outputs": [
    {
     "name": "stdout",
     "output_type": "stream",
     "text": [
      "{'c', 'i', 'l', 'm', 'L', 'a', ' ', 'A', 'e', 's', 'w', 'h'}\n",
      "{'c': 0, 'i': 0, 'l': 0, 'm': 0, 'L': 0, 'a': 0, ' ': 0, 'A': 0, 'e': 0, 's': 0, 'w': 0, 'h': 0}\n",
      "{'c': 1, 'i': 1, 'l': 5, 'm': 1, 'L': 1, 'a': 2, ' ': 3, 'A': 1, 'e': 1, 's': 1, 'w': 1, 'h': 1}\n"
     ]
    }
   ],
   "source": [
    "# write a program to display the character which is repeating more number of times in the given string\n",
    "# first fetch all the unique charaters from the string\n",
    "# make a dictionary using those unique characters and initialize them to 0 using the fromkeys dictionary.\n",
    "\n",
    "str1=\"ALl is wellll macha\"\n",
    "s1=set(str1)\n",
    "print(s1)\n",
    "dict1={}.fromkeys(s1,0)\n",
    "print(dict1)\n",
    "for i in str1:\n",
    "    if i in dict1:\n",
    "        dict1[i]=dict1[i]+1\n",
    "print(dict1)"
   ]
  },
  {
   "cell_type": "code",
   "execution_count": 51,
   "id": "1c035855",
   "metadata": {},
   "outputs": [
    {
     "name": "stdout",
     "output_type": "stream",
     "text": [
      "3\n"
     ]
    }
   ],
   "source": [
    "print(max(dict1.values()))"
   ]
  },
  {
   "cell_type": "code",
   "execution_count": 55,
   "id": "e7dffaa3",
   "metadata": {},
   "outputs": [
    {
     "name": "stdout",
     "output_type": "stream",
     "text": [
      "l is the result\n"
     ]
    }
   ],
   "source": [
    "for j in dict1:\n",
    "    if dict1[j]==max(dict1.values()):\n",
    "        print(j,\"is the result\")"
   ]
  },
  {
   "cell_type": "markdown",
   "id": "efabecb2",
   "metadata": {},
   "source": [
    "# 35\n",
    "## Fetch all palindrome words in a list:"
   ]
  },
  {
   "cell_type": "code",
   "execution_count": 58,
   "id": "70f588b0",
   "metadata": {},
   "outputs": [
    {
     "name": "stdout",
     "output_type": "stream",
     "text": [
      "eve\n",
      "aba\n",
      "malayalam\n",
      "madam\n"
     ]
    }
   ],
   "source": [
    "l1=[\"eve\",\"aba\",\"python\",\"kaka\",\"mama\",\"malayalam\",\"madam\"]\n",
    "# to get the reverse of a word, simply use the [-1::-1]\n",
    "for i in l1:\n",
    "    if i==i[-1::-1]:\n",
    "        print(i)"
   ]
  },
  {
   "cell_type": "code",
   "execution_count": 59,
   "id": "7ab38221",
   "metadata": {},
   "outputs": [
    {
     "data": {
      "text/plain": [
       "['eve', 'aba', 'malayalam', 'madam']"
      ]
     },
     "execution_count": 59,
     "metadata": {},
     "output_type": "execute_result"
    }
   ],
   "source": [
    "[i for i in l1 if i==i[-1::-1]]"
   ]
  },
  {
   "cell_type": "markdown",
   "id": "58652505",
   "metadata": {},
   "source": [
    "# 36\n",
    "## Reversing the characters (words) in the string"
   ]
  },
  {
   "cell_type": "code",
   "execution_count": 62,
   "id": "9b4f295e",
   "metadata": {},
   "outputs": [
    {
     "name": "stdout",
     "output_type": "stream",
     "text": [
      "language\n",
      "easy\n",
      "an\n",
      "is\n",
      "Python\n"
     ]
    }
   ],
   "source": [
    "# write a program to reverse the words in the given string\n",
    "st=\"Python is an easy language\"\n",
    "st1=st.split()\n",
    "for i in st1[-1::-1]:\n",
    "    print(i)\n",
    "    "
   ]
  },
  {
   "cell_type": "code",
   "execution_count": 63,
   "id": "d47f154a",
   "metadata": {},
   "outputs": [
    {
     "data": {
      "text/plain": [
       "['language', 'easy', 'an', 'is', 'Python']"
      ]
     },
     "execution_count": 63,
     "metadata": {},
     "output_type": "execute_result"
    }
   ],
   "source": [
    "[i for i in st.split()[-1::-1] ]"
   ]
  },
  {
   "cell_type": "code",
   "execution_count": 64,
   "id": "04775b61",
   "metadata": {},
   "outputs": [
    {
     "name": "stdout",
     "output_type": "stream",
     "text": [
      "language easy an is Python\n"
     ]
    }
   ],
   "source": [
    "print(\" \".join(st.split()[-1::-1]))"
   ]
  },
  {
   "cell_type": "markdown",
   "id": "95765480",
   "metadata": {},
   "source": [
    "# 37\n",
    "## Reversing the characters in each word"
   ]
  },
  {
   "cell_type": "code",
   "execution_count": 68,
   "id": "8542f557",
   "metadata": {},
   "outputs": [
    {
     "name": "stdout",
     "output_type": "stream",
     "text": [
      "l\n",
      "l\n",
      "A\n",
      "s\n",
      "i\n",
      "l\n",
      "l\n",
      "e\n",
      "W\n"
     ]
    }
   ],
   "source": [
    "str1=\"All is Well\"\n",
    "l1=str1.split()\n",
    "for i in l1:\n",
    "    for k in i[-1::-1]:\n",
    "        print(k)"
   ]
  },
  {
   "cell_type": "code",
   "execution_count": 69,
   "id": "fc2a37d0",
   "metadata": {},
   "outputs": [
    {
     "data": {
      "text/plain": [
       "['l', 'l', 'A', 's', 'i', 'l', 'l', 'e', 'W']"
      ]
     },
     "execution_count": 69,
     "metadata": {},
     "output_type": "execute_result"
    }
   ],
   "source": [
    "[k for i in l1 for k in i[-1::-1]]"
   ]
  },
  {
   "cell_type": "code",
   "execution_count": 70,
   "id": "1a973632",
   "metadata": {},
   "outputs": [
    {
     "name": "stdout",
     "output_type": "stream",
     "text": [
      "llA\n",
      "si\n",
      "lleW\n"
     ]
    }
   ],
   "source": [
    "# simply print the word in reverse order is very easy.\n",
    "st1r1=\"All is Well\"\n",
    "l1=str1.split()\n",
    "for i in l1:\n",
    "    print(i[-1::-1])"
   ]
  },
  {
   "cell_type": "markdown",
   "id": "be5aa7be",
   "metadata": {},
   "source": [
    "# 38\n",
    "## Displaying the longest and shortest words in the string\n"
   ]
  },
  {
   "cell_type": "code",
   "execution_count": 76,
   "id": "f87284d2",
   "metadata": {},
   "outputs": [
    {
     "name": "stdout",
     "output_type": "stream",
     "text": [
      "[1, 2, 2, 6, 3, 1, 4, 2, 8, 3, 2, 7]\n",
      "I is minimum\n",
      "I is minimum\n",
      "anything  is maximum\n"
     ]
    }
   ],
   "source": [
    "str1=\"I am an Indian and I will do anything for my country\"\n",
    "l1=str1.split()\n",
    "l2=[len(i) for i in l1]\n",
    "print(l2)\n",
    "for i in l1:\n",
    "    if len(i)==max(l2):\n",
    "        print(i,\" is maximum\")\n",
    "    if len(i)==min(l2):\n",
    "        print(i ,\"is minimum\")"
   ]
  },
  {
   "cell_type": "code",
   "execution_count": 77,
   "id": "b5fd2ba9",
   "metadata": {},
   "outputs": [
    {
     "name": "stdout",
     "output_type": "stream",
     "text": [
      "['anything']\n"
     ]
    }
   ],
   "source": [
    "print([i for i in l1 if len(i)==max(l2)])"
   ]
  },
  {
   "cell_type": "markdown",
   "id": "537f51ce",
   "metadata": {},
   "source": [
    "# 39\n",
    "## Finding the index numbers of all occurences of same characters"
   ]
  },
  {
   "cell_type": "code",
   "execution_count": 79,
   "id": "e8750850",
   "metadata": {},
   "outputs": [
    {
     "name": "stdout",
     "output_type": "stream",
     "text": [
      "enter any character: l\n",
      "1\n",
      "2\n",
      "9\n",
      "10\n"
     ]
    }
   ],
   "source": [
    "s1=\"All is well macha\"\n",
    "char=input(\"enter any character: \")\n",
    "for i in range(len(s1)):\n",
    "    if s1[i]==char:\n",
    "        print(i)"
   ]
  },
  {
   "cell_type": "code",
   "execution_count": 80,
   "id": "c518b972",
   "metadata": {},
   "outputs": [
    {
     "name": "stdout",
     "output_type": "stream",
     "text": [
      "[0]\n",
      "[1, 2, 9, 10]\n",
      "[1, 2, 9, 10]\n",
      "[3, 6]\n",
      "[4]\n",
      "[5]\n",
      "[3, 6]\n",
      "[7]\n",
      "[8]\n",
      "[1, 2, 9, 10]\n",
      "[1, 2, 9, 10]\n"
     ]
    }
   ],
   "source": [
    "# using functions we can do this very easily.\n",
    "# most of the above problems can  be solved very easily using funnctions\n",
    "def f2(s1,char):\n",
    "    print([i for i in range(len(s1)) if s1[i]==char])\n",
    "str1=\"All is well\"\n",
    "for i in str1:\n",
    "    f2(str1,i)\n",
    "    "
   ]
  },
  {
   "cell_type": "markdown",
   "id": "bc60ff80",
   "metadata": {},
   "source": [
    "# 40\n",
    "## Finding the missing number from the list"
   ]
  },
  {
   "cell_type": "code",
   "execution_count": 83,
   "id": "cf2ce957",
   "metadata": {},
   "outputs": [
    {
     "name": "stdout",
     "output_type": "stream",
     "text": [
      "32\n",
      "35\n",
      "36\n",
      "38\n",
      "41\n",
      "42\n",
      "45\n",
      "47\n",
      "48\n"
     ]
    }
   ],
   "source": [
    "# you have a list of the numbers\n",
    "# from the list,we need to find the missing numbers and print them.\n",
    "# first we need to find out the minimum and maximum numbers from the list.\n",
    "# then print all the missing numbers from the list.\n",
    "\n",
    "l1=[33,46,34,49,31,43,37,39,43,44,40]\n",
    "for i in range(min(l1),max(l1)):\n",
    "    if i not in l1:\n",
    "        print(i)"
   ]
  },
  {
   "cell_type": "code",
   "execution_count": 88,
   "id": "3e677e97",
   "metadata": {},
   "outputs": [
    {
     "data": {
      "text/plain": [
       "[101, 102, 103, 104]"
      ]
     },
     "execution_count": 88,
     "metadata": {},
     "output_type": "execute_result"
    }
   ],
   "source": [
    "l1=[100,105]\n",
    "[i for i in range(min(l1),max(l1)) if i not in l1]"
   ]
  },
  {
   "cell_type": "code",
   "execution_count": null,
   "id": "de98bd58",
   "metadata": {},
   "outputs": [],
   "source": [
    "\n"
   ]
  }
 ],
 "metadata": {
  "kernelspec": {
   "display_name": "Python 3 (ipykernel)",
   "language": "python",
   "name": "python3"
  },
  "language_info": {
   "codemirror_mode": {
    "name": "ipython",
    "version": 3
   },
   "file_extension": ".py",
   "mimetype": "text/x-python",
   "name": "python",
   "nbconvert_exporter": "python",
   "pygments_lexer": "ipython3",
   "version": "3.9.13"
  }
 },
 "nbformat": 4,
 "nbformat_minor": 5
}
